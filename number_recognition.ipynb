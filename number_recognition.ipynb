{
  "cells": [
    {
      "cell_type": "markdown",
      "metadata": {
        "id": "rw2US0p1ncbH"
      },
      "source": [
        "# HAND WRITTEN NUMBER RECPGNISION - TENSERFLOW"
      ]
    },
    {
      "cell_type": "code",
      "execution_count": 3,
      "metadata": {
        "id": "svbd_oMDnmRx"
      },
      "outputs": [],
      "source": [
        "import tensorflow as tf\n",
        "import numpy as np\n",
        "from tensorflow.keras.datasets import mnist\n"
      ]
    },
    {
      "cell_type": "code",
      "execution_count": 4,
      "metadata": {
        "id": "Sy5g_XIbo9PD"
      },
      "outputs": [],
      "source": [
        "# Parameters\n",
        "num_class = 10\n",
        "num_features = 28 * 28\n",
        "learning_rate = 0.001\n",
        "batch_size = 256\n",
        "training_steps = 6000\n",
        "display_step = 100\n",
        "n_hidden1 = 128\n",
        "n_hidden2 = 256\n",
        "\n",
        "\n"
      ]
    },
    {
      "cell_type": "code",
      "execution_count": 5,
      "metadata": {
        "id": "glgSrJGeBO7c"
      },
      "outputs": [],
      "source": [
        "\n",
        "# Load MNIST data\n",
        "(x_train, y_train), (x_test, y_test) = mnist.load_data()\n",
        "\n",
        "# Flatten and normalize the data\n",
        "x_train = np.array(x_train, dtype=np.float32).reshape([-1, num_features]) / 255.0\n",
        "x_test = np.array(x_test, dtype=np.float32).reshape([-1, num_features]) / 255.0"
      ]
    },
    {
      "cell_type": "code",
      "execution_count": 6,
      "metadata": {
        "id": "W1XcBS0eBO4X"
      },
      "outputs": [],
      "source": [
        "# Create training and test datasets\n",
        "train_data = tf.data.Dataset.from_tensor_slices((x_train, y_train))\n",
        "train_data = train_data.repeat().shuffle(5000).batch(batch_size).prefetch(tf.data.AUTOTUNE)\n",
        "\n",
        "test_data = tf.data.Dataset.from_tensor_slices((x_test, y_test))\n",
        "test_data = test_data.batch(batch_size).prefetch(tf.data.AUTOTUNE)"
      ]
    },
    {
      "cell_type": "markdown",
      "metadata": {
        "id": "sl7IuNNj4gJ-"
      },
      "source": [
        "# FORWARD PROPAGATION"
      ]
    },
    {
      "cell_type": "code",
      "execution_count": 7,
      "metadata": {
        "id": "oflWClAipsCg"
      },
      "outputs": [],
      "source": [
        "# Initialize weights and biases\n",
        "random_normal = tf.initializers.RandomNormal()\n",
        "\n",
        "weights = {\n",
        "    \"h1\": tf.Variable(random_normal([num_features, n_hidden1])),\n",
        "    \"h2\": tf.Variable(random_normal([n_hidden1, n_hidden2])),\n",
        "    \"output\": tf.Variable(random_normal([n_hidden2, num_class]))\n",
        "}\n",
        "\n",
        "biases = {\n",
        "    \"b1\": tf.Variable(random_normal([n_hidden1])),\n",
        "    \"b2\": tf.Variable(random_normal([n_hidden2])),\n",
        "    \"output\": tf.Variable(random_normal([num_class]))\n",
        "}\n"
      ]
    },
    {
      "cell_type": "code",
      "execution_count": 8,
      "metadata": {
        "id": "8pbRqcysu_ZN"
      },
      "outputs": [],
      "source": [
        "\n",
        "# Define the model\n",
        "def neural_net(x):\n",
        "    layer1 = tf.add(tf.matmul(x, weights[\"h1\"]), biases[\"b1\"])\n",
        "    layer1 = tf.nn.sigmoid(layer1)\n",
        "    layer2 = tf.add(tf.matmul(layer1, weights[\"h2\"]), biases[\"b2\"])\n",
        "    layer2 = tf.nn.sigmoid(layer2)\n",
        "    output_layer = tf.add(tf.matmul(layer2, weights[\"output\"]), biases[\"output\"])\n",
        "    return tf.nn.softmax(output_layer)"
      ]
    },
    {
      "cell_type": "markdown",
      "metadata": {
        "id": "yyo1lZbj4tKD"
      },
      "source": [
        "# BACKWARD PROPAGATION"
      ]
    },
    {
      "cell_type": "code",
      "execution_count": null,
      "metadata": {
        "id": "G1VWtB9qB1bX"
      },
      "outputs": [],
      "source": [
        "# Define loss and accuracy functions\n",
        "def cross_entropy(y_act, y_pred):\n",
        "    y_act = tf.one_hot(y_act, depth=num_class)\n",
        "    return tf.reduce_mean(tf.keras.losses.categorical_crossentropy(y_act, y_pred))\n",
        "\n",
        "def accuracy(y_pred, y_true):\n",
        "    correct_prediction = tf.equal(tf.argmax(y_pred, 1), tf.cast(y_true, tf.int64))\n",
        "    return tf.reduce_mean(tf.cast(correct_prediction, tf.float32))"
      ]
    },
    {
      "cell_type": "code",
      "execution_count": null,
      "metadata": {
        "id": "SsBu78jVvUXI"
      },
      "outputs": [],
      "source": [
        "# Optimizer\n",
        "optimizer = tf.keras.optimizers.SGD(learning_rate)\n",
        "\n",
        "def run_optimisers(x, y):\n",
        "    with tf.GradientTape() as g:\n",
        "        pred = neural_net(x)\n",
        "        loss = cross_entropy(y, pred)\n",
        "    trainable_variables = list(weights.values()) + list(biases.values())\n",
        "    gradients = g.gradient(loss, trainable_variables)\n",
        "    optimizer.apply_gradients(zip(gradients, trainable_variables))"
      ]
    },
    {
      "cell_type": "code",
      "execution_count": null,
      "metadata": {
        "colab": {
          "base_uri": "https://localhost:8080/"
        },
        "id": "__UywApLw3zU",
        "outputId": "5e381840-fbc3-46ca-a4b1-1dc57d6f3b5d"
      },
      "outputs": [
        {
          "name": "stdout",
          "output_type": "stream",
          "text": [
            "Step: 100, Loss: 2.3162, Accuracy: 0.1055\n",
            "Step: 200, Loss: 2.3058, Accuracy: 0.0742\n",
            "Step: 300, Loss: 2.3029, Accuracy: 0.0664\n",
            "Step: 400, Loss: 2.2971, Accuracy: 0.1133\n",
            "Step: 500, Loss: 2.3012, Accuracy: 0.1094\n",
            "Step: 600, Loss: 2.2980, Accuracy: 0.1133\n",
            "Step: 700, Loss: 2.2977, Accuracy: 0.1172\n",
            "Step: 800, Loss: 2.2986, Accuracy: 0.1211\n",
            "Step: 900, Loss: 2.3055, Accuracy: 0.0898\n",
            "Step: 1000, Loss: 2.2943, Accuracy: 0.1367\n",
            "Step: 1100, Loss: 2.3008, Accuracy: 0.1094\n",
            "Step: 1200, Loss: 2.2986, Accuracy: 0.1016\n",
            "Step: 1300, Loss: 2.2945, Accuracy: 0.1406\n",
            "Step: 1400, Loss: 2.2999, Accuracy: 0.1016\n",
            "Step: 1500, Loss: 2.3002, Accuracy: 0.0898\n",
            "Step: 1600, Loss: 2.2930, Accuracy: 0.1289\n",
            "Step: 1700, Loss: 2.2954, Accuracy: 0.1055\n",
            "Step: 1800, Loss: 2.2913, Accuracy: 0.1367\n",
            "Step: 1900, Loss: 2.2928, Accuracy: 0.1367\n",
            "Step: 2000, Loss: 2.2930, Accuracy: 0.1406\n",
            "Step: 2100, Loss: 2.2943, Accuracy: 0.1094\n",
            "Step: 2200, Loss: 2.2937, Accuracy: 0.1289\n",
            "Step: 2300, Loss: 2.2978, Accuracy: 0.1055\n",
            "Step: 2400, Loss: 2.2929, Accuracy: 0.1289\n",
            "Step: 2500, Loss: 2.2920, Accuracy: 0.1367\n",
            "Step: 2600, Loss: 2.2965, Accuracy: 0.1250\n",
            "Step: 2700, Loss: 2.2956, Accuracy: 0.1016\n",
            "Step: 2800, Loss: 2.2978, Accuracy: 0.0859\n",
            "Step: 2900, Loss: 2.2943, Accuracy: 0.0898\n",
            "Step: 3000, Loss: 2.2986, Accuracy: 0.1094\n",
            "Step: 3100, Loss: 2.2980, Accuracy: 0.1055\n",
            "Step: 3200, Loss: 2.2995, Accuracy: 0.0703\n",
            "Step: 3300, Loss: 2.2956, Accuracy: 0.1133\n",
            "Step: 3400, Loss: 2.2933, Accuracy: 0.1133\n",
            "Step: 3500, Loss: 2.2902, Accuracy: 0.1133\n",
            "Step: 3600, Loss: 2.2997, Accuracy: 0.0781\n",
            "Step: 3700, Loss: 2.2918, Accuracy: 0.1094\n",
            "Step: 3800, Loss: 2.2979, Accuracy: 0.0977\n",
            "Step: 3900, Loss: 2.2937, Accuracy: 0.0938\n",
            "Step: 4000, Loss: 2.2925, Accuracy: 0.1133\n",
            "Step: 4100, Loss: 2.2933, Accuracy: 0.1133\n",
            "Step: 4200, Loss: 2.2880, Accuracy: 0.1250\n",
            "Step: 4300, Loss: 2.2907, Accuracy: 0.1172\n",
            "Step: 4400, Loss: 2.2920, Accuracy: 0.1094\n",
            "Step: 4500, Loss: 2.2887, Accuracy: 0.1094\n",
            "Step: 4600, Loss: 2.2940, Accuracy: 0.0977\n",
            "Step: 4700, Loss: 2.2871, Accuracy: 0.1406\n",
            "Step: 4800, Loss: 2.2925, Accuracy: 0.0859\n",
            "Step: 4900, Loss: 2.2884, Accuracy: 0.0938\n",
            "Step: 5000, Loss: 2.2918, Accuracy: 0.1172\n",
            "Step: 5100, Loss: 2.2878, Accuracy: 0.1406\n",
            "Step: 5200, Loss: 2.2873, Accuracy: 0.1094\n",
            "Step: 5300, Loss: 2.2901, Accuracy: 0.1094\n",
            "Step: 5400, Loss: 2.2874, Accuracy: 0.1055\n",
            "Step: 5500, Loss: 2.2880, Accuracy: 0.1289\n",
            "Step: 5600, Loss: 2.2844, Accuracy: 0.1250\n",
            "Step: 5700, Loss: 2.2855, Accuracy: 0.1445\n",
            "Step: 5800, Loss: 2.2930, Accuracy: 0.0977\n",
            "Step: 5900, Loss: 2.2840, Accuracy: 0.1094\n",
            "Step: 6000, Loss: 2.2855, Accuracy: 0.1328\n"
          ]
        }
      ],
      "source": [
        "\n",
        "# Training loop\n",
        "for step, (batch_x, batch_y) in enumerate(train_data.take(training_steps), 1):\n",
        "    run_optimisers(batch_x, batch_y)\n",
        "\n",
        "    if step % display_step == 0:\n",
        "        pred = neural_net(batch_x)\n",
        "        loss = cross_entropy(batch_y, pred)\n",
        "        acc = accuracy(pred, batch_y)\n",
        "        print(f\"Step: {step}, Loss: {loss.numpy():.4f}, Accuracy: {acc.numpy():.4f}\")"
      ]
    },
    {
      "cell_type": "code",
      "execution_count": 12,
      "metadata": {
        "colab": {
          "base_uri": "https://localhost:8080/"
        },
        "id": "JNts1JI25LXx",
        "outputId": "40aafe09-0913-47bf-b6b1-a9b75cd1d83b"
      },
      "outputs": [
        {
          "name": "stdout",
          "output_type": "stream",
          "text": [
            "\n",
            "Final Test Accuracy: 0.1135\n"
          ]
        }
      ],
      "source": [
        "# Evaluate on test data\n",
        "all_preds = []\n",
        "all_labels = []\n",
        "\n",
        "for batch_x, batch_y in test_data:\n",
        "    pred = neural_net(batch_x)\n",
        "    all_preds.append(pred)\n",
        "    all_labels.append(batch_y)\n",
        "\n",
        "y_pred = tf.concat(all_preds, axis=0)\n",
        "y_true = tf.concat(all_labels, axis=0)\n",
        "\n",
        "test_acc = accuracy(y_pred, y_true)\n",
        "print(f\"\\nFinal Test Accuracy: {test_acc.numpy():.4f}\")\n"
      ]
    },
    {
      "cell_type": "code",
      "execution_count": 14,
      "metadata": {
        "colab": {
          "base_uri": "https://localhost:8080/",
          "height": 520
        },
        "id": "oq9cNdbmE0Vg",
        "outputId": "96f78617-cda5-4904-994a-ed63d7f2f890"
      },
      "outputs": [
        {
          "name": "stdout",
          "output_type": "stream",
          "text": [
            "model.prediction 1\n",
            "model.prediction 1\n",
            "model.prediction 1\n",
            "model.prediction 1\n",
            "model.prediction 1\n"
          ]
        },
        {
          "data": {
            "image/png": "[encoded data removed]",
            "text/plain": [
              "<Figure size 640x480 with 1 Axes>"
            ]
          },
          "metadata": {},
          "output_type": "display_data"
        }
      ],
      "source": [
        "import matplotlib.pyplot as plt\n",
        "n_image = 5\n",
        "test_image = x_test[:n_image]\n",
        "prediction=neural_net(test_image)\n",
        "for i in range(n_image):\n",
        "  plt.imshow(np.reshape(test_image[i],[28,28]))\n",
        "  plt.show\n",
        "  print(f\"model.prediction {np.argmax(prediction.numpy()[i])}\")\n"
      ]
    }
  ],
  "metadata": {
    "accelerator": "GPU",
    "colab": {
      "gpuType": "T4",
      "provenance": []
    },
    "kernelspec": {
      "display_name": "Python 3",
      "name": "python3"
    },
    "language_info": {
      "name": "python"
    }
  },
  "nbformat": 4,
  "nbformat_minor": 0
}
